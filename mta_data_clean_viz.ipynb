{
 "cells": [
  {
   "cell_type": "markdown",
   "metadata": {},
   "source": [
    "# Project 1: MTA Turnstile data cleaning and visualization\n"
   ]
  },
  {
   "cell_type": "markdown",
   "metadata": {},
   "source": [
    "This notebook is part of the first project I did at the Metis Data Science bootcamp. We were\n",
    "split into teams of four and required to come up with a way to optmize street team placements at various subway stations in New York. \n",
    "We split the tasks amongst the team and I took the responsibility for gathering, cleaning and visualising the data."
   ]
  },
  {
   "cell_type": "markdown",
   "metadata": {},
   "source": [
    "The data for each week is published on Saturday and can be downloaded as a csv file from the MTA website http://web.mta.info/developers/turnstile.html. The csv file was read into a data frame using Pandas."
   ]
  },
  {
   "cell_type": "markdown",
   "metadata": {},
   "source": [
    "## MTA Turnstile data cleaning "
   ]
  },
  {
   "cell_type": "markdown",
   "metadata": {},
   "source": [
    "### Get the data"
   ]
  },
  {
   "cell_type": "code",
   "execution_count": 106,
   "metadata": {
    "collapsed": false
   },
   "outputs": [
    {
     "data": {
      "text/html": [
       "<div>\n",
       "<table border=\"1\" class=\"dataframe\">\n",
       "  <thead>\n",
       "    <tr style=\"text-align: right;\">\n",
       "      <th></th>\n",
       "      <th>C/A</th>\n",
       "      <th>UNIT</th>\n",
       "      <th>SCP</th>\n",
       "      <th>STATION</th>\n",
       "      <th>LINENAME</th>\n",
       "      <th>DIVISION</th>\n",
       "      <th>DATE</th>\n",
       "      <th>TIME</th>\n",
       "      <th>DESC</th>\n",
       "      <th>ENTRIES</th>\n",
       "      <th>EXITS</th>\n",
       "    </tr>\n",
       "  </thead>\n",
       "  <tbody>\n",
       "    <tr>\n",
       "      <th>0</th>\n",
       "      <td>A002</td>\n",
       "      <td>R051</td>\n",
       "      <td>02-00-00</td>\n",
       "      <td>59 ST</td>\n",
       "      <td>NQR456</td>\n",
       "      <td>BMT</td>\n",
       "      <td>04/23/2016</td>\n",
       "      <td>00:00:00</td>\n",
       "      <td>REGULAR</td>\n",
       "      <td>5630154</td>\n",
       "      <td>1906686</td>\n",
       "    </tr>\n",
       "    <tr>\n",
       "      <th>1</th>\n",
       "      <td>A002</td>\n",
       "      <td>R051</td>\n",
       "      <td>02-00-00</td>\n",
       "      <td>59 ST</td>\n",
       "      <td>NQR456</td>\n",
       "      <td>BMT</td>\n",
       "      <td>04/23/2016</td>\n",
       "      <td>04:00:00</td>\n",
       "      <td>REGULAR</td>\n",
       "      <td>5630200</td>\n",
       "      <td>1906691</td>\n",
       "    </tr>\n",
       "    <tr>\n",
       "      <th>2</th>\n",
       "      <td>A002</td>\n",
       "      <td>R051</td>\n",
       "      <td>02-00-00</td>\n",
       "      <td>59 ST</td>\n",
       "      <td>NQR456</td>\n",
       "      <td>BMT</td>\n",
       "      <td>04/23/2016</td>\n",
       "      <td>08:00:00</td>\n",
       "      <td>REGULAR</td>\n",
       "      <td>5630228</td>\n",
       "      <td>1906721</td>\n",
       "    </tr>\n",
       "    <tr>\n",
       "      <th>3</th>\n",
       "      <td>A002</td>\n",
       "      <td>R051</td>\n",
       "      <td>02-00-00</td>\n",
       "      <td>59 ST</td>\n",
       "      <td>NQR456</td>\n",
       "      <td>BMT</td>\n",
       "      <td>04/23/2016</td>\n",
       "      <td>12:00:00</td>\n",
       "      <td>REGULAR</td>\n",
       "      <td>5630337</td>\n",
       "      <td>1906819</td>\n",
       "    </tr>\n",
       "    <tr>\n",
       "      <th>4</th>\n",
       "      <td>A002</td>\n",
       "      <td>R051</td>\n",
       "      <td>02-00-00</td>\n",
       "      <td>59 ST</td>\n",
       "      <td>NQR456</td>\n",
       "      <td>BMT</td>\n",
       "      <td>04/23/2016</td>\n",
       "      <td>16:00:00</td>\n",
       "      <td>REGULAR</td>\n",
       "      <td>5630595</td>\n",
       "      <td>1906905</td>\n",
       "    </tr>\n",
       "  </tbody>\n",
       "</table>\n",
       "</div>"
      ],
      "text/plain": [
       "    C/A  UNIT       SCP STATION LINENAME DIVISION        DATE      TIME  \\\n",
       "0  A002  R051  02-00-00   59 ST   NQR456      BMT  04/23/2016  00:00:00   \n",
       "1  A002  R051  02-00-00   59 ST   NQR456      BMT  04/23/2016  04:00:00   \n",
       "2  A002  R051  02-00-00   59 ST   NQR456      BMT  04/23/2016  08:00:00   \n",
       "3  A002  R051  02-00-00   59 ST   NQR456      BMT  04/23/2016  12:00:00   \n",
       "4  A002  R051  02-00-00   59 ST   NQR456      BMT  04/23/2016  16:00:00   \n",
       "\n",
       "      DESC  ENTRIES  \\\n",
       "0  REGULAR  5630154   \n",
       "1  REGULAR  5630200   \n",
       "2  REGULAR  5630228   \n",
       "3  REGULAR  5630337   \n",
       "4  REGULAR  5630595   \n",
       "\n",
       "   EXITS                                                                 \n",
       "0                                            1906686                     \n",
       "1                                            1906691                     \n",
       "2                                            1906721                     \n",
       "3                                            1906819                     \n",
       "4                                            1906905                     "
      ]
     },
     "execution_count": 106,
     "metadata": {},
     "output_type": "execute_result"
    }
   ],
   "source": [
    "# imports a library 'pandas', names it as 'pd'\n",
    "import pandas as pd\n",
    "import numpy as np\n",
    "import matplotlib.pyplot as plt\n",
    "import seaborn as sns\n",
    "import datetime as dt\n",
    "import datetime as datetime\n",
    "\n",
    "# enables inline plots, without it plots don't show up in the notebook\n",
    "%matplotlib inline\n",
    "\n",
    "def date_format(date):\n",
    "    return date.strftime('%y%m%d')\n",
    "\n",
    "start_date = datetime.date(2016, 04, 30)\n",
    "end_date = datetime.date(2016, 05, 28)\n",
    "frames = []\n",
    "link = 'http://web.mta.info/developers/data/nyct/turnstile/turnstile_'\n",
    "while start_date <= end_date:\n",
    "    frames.append(pd.read_csv(link + date_format(start_date) + '.txt'))\n",
    "    start_date += datetime.timedelta(days=7)\n",
    "    \n",
    "turnstile_df = pd.concat(frames)\n",
    "turnstile_df.head()"
   ]
  },
  {
   "cell_type": "markdown",
   "metadata": {
    "collapsed": false
   },
   "source": [
    "## Clean the data"
   ]
  },
  {
   "cell_type": "code",
   "execution_count": 107,
   "metadata": {
    "collapsed": false
   },
   "outputs": [
    {
     "data": {
      "text/plain": [
       "Index([u'C/A', u'UNIT', u'SCP', u'STATION', u'LINENAME', u'DIVISION', u'DATE',\n",
       "       u'TIME', u'DESC', u'ENTRIES',\n",
       "       u'EXITS                                                               '],\n",
       "      dtype='object')"
      ]
     },
     "execution_count": 107,
     "metadata": {},
     "output_type": "execute_result"
    }
   ],
   "source": [
    "# Let's view the columns\n",
    "turnstile_df.columns"
   ]
  },
  {
   "cell_type": "code",
   "execution_count": 108,
   "metadata": {
    "collapsed": false
   },
   "outputs": [],
   "source": [
    "#remove empty spaces from columns \n",
    "turnstile_df.columns = [column.strip() for column in turnstile_df.columns]"
   ]
  },
  {
   "cell_type": "code",
   "execution_count": 109,
   "metadata": {
    "collapsed": false
   },
   "outputs": [
    {
     "data": {
      "text/plain": [
       "Index([u'C/A', u'UNIT', u'SCP', u'STATION', u'LINENAME', u'DIVISION', u'DATE',\n",
       "       u'TIME', u'DESC', u'ENTRIES', u'EXITS'],\n",
       "      dtype='object')"
      ]
     },
     "execution_count": 109,
     "metadata": {},
     "output_type": "execute_result"
    }
   ],
   "source": [
    "turnstile_df.columns"
   ]
  },
  {
   "cell_type": "code",
   "execution_count": 110,
   "metadata": {
    "collapsed": false
   },
   "outputs": [
    {
     "data": {
      "text/plain": [
       "C/A         object\n",
       "UNIT        object\n",
       "SCP         object\n",
       "STATION     object\n",
       "LINENAME    object\n",
       "DIVISION    object\n",
       "DATE        object\n",
       "TIME        object\n",
       "DESC        object\n",
       "ENTRIES      int64\n",
       "EXITS        int64\n",
       "dtype: object"
      ]
     },
     "execution_count": 110,
     "metadata": {},
     "output_type": "execute_result"
    }
   ],
   "source": [
    "turnstile_df.dtypes"
   ]
  },
  {
   "cell_type": "code",
   "execution_count": 111,
   "metadata": {
    "collapsed": false
   },
   "outputs": [],
   "source": [
    "#Convert Date_Time to date time object. Needed for time-series plots\n",
    "turnstile_df[\"DATE_TIME\"] = pd.to_datetime(turnstile_df.DATE + \" \" + turnstile_df.TIME, format=\"%m/%d/%Y %H:%M:%S\")"
   ]
  },
  {
   "cell_type": "code",
   "execution_count": 112,
   "metadata": {
    "collapsed": false
   },
   "outputs": [
    {
     "data": {
      "text/html": [
       "<div>\n",
       "<table border=\"1\" class=\"dataframe\">\n",
       "  <thead>\n",
       "    <tr style=\"text-align: right;\">\n",
       "      <th></th>\n",
       "      <th>C/A</th>\n",
       "      <th>UNIT</th>\n",
       "      <th>SCP</th>\n",
       "      <th>STATION</th>\n",
       "      <th>LINENAME</th>\n",
       "      <th>DIVISION</th>\n",
       "      <th>DATE</th>\n",
       "      <th>TIME</th>\n",
       "      <th>DESC</th>\n",
       "      <th>ENTRIES</th>\n",
       "      <th>EXITS</th>\n",
       "      <th>DATE_TIME</th>\n",
       "    </tr>\n",
       "  </thead>\n",
       "  <tbody>\n",
       "    <tr>\n",
       "      <th>0</th>\n",
       "      <td>A002</td>\n",
       "      <td>R051</td>\n",
       "      <td>02-00-00</td>\n",
       "      <td>59 ST</td>\n",
       "      <td>NQR456</td>\n",
       "      <td>BMT</td>\n",
       "      <td>04/23/2016</td>\n",
       "      <td>00:00:00</td>\n",
       "      <td>REGULAR</td>\n",
       "      <td>5630154</td>\n",
       "      <td>1906686</td>\n",
       "      <td>2016-04-23 00:00:00</td>\n",
       "    </tr>\n",
       "    <tr>\n",
       "      <th>1</th>\n",
       "      <td>A002</td>\n",
       "      <td>R051</td>\n",
       "      <td>02-00-00</td>\n",
       "      <td>59 ST</td>\n",
       "      <td>NQR456</td>\n",
       "      <td>BMT</td>\n",
       "      <td>04/23/2016</td>\n",
       "      <td>04:00:00</td>\n",
       "      <td>REGULAR</td>\n",
       "      <td>5630200</td>\n",
       "      <td>1906691</td>\n",
       "      <td>2016-04-23 04:00:00</td>\n",
       "    </tr>\n",
       "    <tr>\n",
       "      <th>2</th>\n",
       "      <td>A002</td>\n",
       "      <td>R051</td>\n",
       "      <td>02-00-00</td>\n",
       "      <td>59 ST</td>\n",
       "      <td>NQR456</td>\n",
       "      <td>BMT</td>\n",
       "      <td>04/23/2016</td>\n",
       "      <td>08:00:00</td>\n",
       "      <td>REGULAR</td>\n",
       "      <td>5630228</td>\n",
       "      <td>1906721</td>\n",
       "      <td>2016-04-23 08:00:00</td>\n",
       "    </tr>\n",
       "    <tr>\n",
       "      <th>3</th>\n",
       "      <td>A002</td>\n",
       "      <td>R051</td>\n",
       "      <td>02-00-00</td>\n",
       "      <td>59 ST</td>\n",
       "      <td>NQR456</td>\n",
       "      <td>BMT</td>\n",
       "      <td>04/23/2016</td>\n",
       "      <td>12:00:00</td>\n",
       "      <td>REGULAR</td>\n",
       "      <td>5630337</td>\n",
       "      <td>1906819</td>\n",
       "      <td>2016-04-23 12:00:00</td>\n",
       "    </tr>\n",
       "    <tr>\n",
       "      <th>4</th>\n",
       "      <td>A002</td>\n",
       "      <td>R051</td>\n",
       "      <td>02-00-00</td>\n",
       "      <td>59 ST</td>\n",
       "      <td>NQR456</td>\n",
       "      <td>BMT</td>\n",
       "      <td>04/23/2016</td>\n",
       "      <td>16:00:00</td>\n",
       "      <td>REGULAR</td>\n",
       "      <td>5630595</td>\n",
       "      <td>1906905</td>\n",
       "      <td>2016-04-23 16:00:00</td>\n",
       "    </tr>\n",
       "  </tbody>\n",
       "</table>\n",
       "</div>"
      ],
      "text/plain": [
       "    C/A  UNIT       SCP STATION LINENAME DIVISION        DATE      TIME  \\\n",
       "0  A002  R051  02-00-00   59 ST   NQR456      BMT  04/23/2016  00:00:00   \n",
       "1  A002  R051  02-00-00   59 ST   NQR456      BMT  04/23/2016  04:00:00   \n",
       "2  A002  R051  02-00-00   59 ST   NQR456      BMT  04/23/2016  08:00:00   \n",
       "3  A002  R051  02-00-00   59 ST   NQR456      BMT  04/23/2016  12:00:00   \n",
       "4  A002  R051  02-00-00   59 ST   NQR456      BMT  04/23/2016  16:00:00   \n",
       "\n",
       "      DESC  ENTRIES    EXITS           DATE_TIME  \n",
       "0  REGULAR  5630154  1906686 2016-04-23 00:00:00  \n",
       "1  REGULAR  5630200  1906691 2016-04-23 04:00:00  \n",
       "2  REGULAR  5630228  1906721 2016-04-23 08:00:00  \n",
       "3  REGULAR  5630337  1906819 2016-04-23 12:00:00  \n",
       "4  REGULAR  5630595  1906905 2016-04-23 16:00:00  "
      ]
     },
     "execution_count": 112,
     "metadata": {},
     "output_type": "execute_result"
    }
   ],
   "source": [
    "turnstile_df.head()"
   ]
  },
  {
   "cell_type": "code",
   "execution_count": 113,
   "metadata": {
    "collapsed": false
   },
   "outputs": [
    {
     "data": {
      "text/plain": [
       "04:00:00    83654\n",
       "00:00:00    83607\n",
       "08:00:00    83601\n",
       "12:00:00    83578\n",
       "16:00:00    83477\n",
       "20:00:00    83453\n",
       "09:00:00    58712\n",
       "05:00:00    58698\n",
       "01:00:00    58697\n",
       "21:00:00    58696\n",
       "17:00:00    58631\n",
       "13:00:00    58619\n",
       "02:00:00     3852\n",
       "18:00:00     3848\n",
       "10:00:00     3845\n",
       "22:00:00     3844\n",
       "14:00:00     3844\n",
       "06:00:00     3843\n",
       "23:00:00     1370\n",
       "11:00:00     1368\n",
       "19:00:00     1365\n",
       "03:00:00     1365\n",
       "07:00:00     1365\n",
       "15:00:00     1361\n",
       "08:22:00     1295\n",
       "20:22:00     1295\n",
       "00:22:00     1295\n",
       "04:22:00     1295\n",
       "16:22:00     1294\n",
       "12:22:00     1294\n",
       "            ...  \n",
       "19:08:42        1\n",
       "02:21:55        1\n",
       "00:32:36        1\n",
       "00:32:32        1\n",
       "14:16:48        1\n",
       "23:09:13        1\n",
       "10:35:42        1\n",
       "21:12:35        1\n",
       "10:35:46        1\n",
       "17:24:45        1\n",
       "08:29:42        1\n",
       "08:29:45        1\n",
       "08:29:44        1\n",
       "08:29:46        1\n",
       "02:53:59        1\n",
       "23:32:03        1\n",
       "20:43:23        1\n",
       "08:49:51        1\n",
       "17:12:57        1\n",
       "17:12:52        1\n",
       "14:01:30        1\n",
       "17:12:59        1\n",
       "14:01:36        1\n",
       "03:50:50        1\n",
       "04:32:31        1\n",
       "18:09:37        1\n",
       "12:19:23        1\n",
       "17:24:40        1\n",
       "17:24:41        1\n",
       "19:33:23        1\n",
       "Name: TIME, dtype: int64"
      ]
     },
     "execution_count": 113,
     "metadata": {},
     "output_type": "execute_result"
    }
   ],
   "source": [
    "turnstile_df.TIME.value_counts()"
   ]
  },
  {
   "cell_type": "markdown",
   "metadata": {
    "collapsed": true
   },
   "source": [
    "Each station reports in four-hour time intervals starting either at 12am or 1am.There are a number of random time stamps that need to be removed."
   ]
  },
  {
   "cell_type": "code",
   "execution_count": 114,
   "metadata": {
    "collapsed": false
   },
   "outputs": [],
   "source": [
    "time_list = ['00:00:00', '08:00:00', '12:00:00', '16:00:00', '20:00:00', '09:00:00', '21:00:00', '17:00:00', '13:00:00']\n",
    "turnstile_df = turnstile_df[turnstile_df['TIME'].isin(time_list)]"
   ]
  },
  {
   "cell_type": "markdown",
   "metadata": {},
   "source": [
    "Add a weekday column to the table"
   ]
  },
  {
   "cell_type": "code",
   "execution_count": 115,
   "metadata": {
    "collapsed": false
   },
   "outputs": [],
   "source": [
    "turnstile_df['WEEKDAY_INDEX'] = pd.to_datetime(turnstile_df['DATE'])\n",
    "days = {0:'Monday',1:'Tuesday',2:'Wednesday',3:'Thursday',4:'Friday',5:'Saturday',6:'Sunday'}\n",
    "turnstile_df['WEEKDAY_INDEX'] = turnstile_df['WEEKDAY_INDEX'].dt.dayofweek\n",
    "turnstile_df['WEEKDAY'] = turnstile_df['WEEKDAY_INDEX'].apply(lambda x: days[x])"
   ]
  },
  {
   "cell_type": "code",
   "execution_count": null,
   "metadata": {
    "collapsed": true
   },
   "outputs": [],
   "source": []
  },
  {
   "cell_type": "markdown",
   "metadata": {
    "collapsed": false
   },
   "source": [
    "Each turnstile in uniquely identified by the first four columns, i.e. C/A, UNIT, SCP and STATION. Checking to make sure that entries are unique."
   ]
  },
  {
   "cell_type": "code",
   "execution_count": 116,
   "metadata": {
    "collapsed": false
   },
   "outputs": [
    {
     "data": {
      "text/html": [
       "<div>\n",
       "<table border=\"1\" class=\"dataframe\">\n",
       "  <thead>\n",
       "    <tr style=\"text-align: right;\">\n",
       "      <th></th>\n",
       "      <th>C/A</th>\n",
       "      <th>UNIT</th>\n",
       "      <th>SCP</th>\n",
       "      <th>STATION</th>\n",
       "      <th>DATE_TIME</th>\n",
       "      <th>ENTRIES</th>\n",
       "    </tr>\n",
       "  </thead>\n",
       "  <tbody>\n",
       "    <tr>\n",
       "      <th>322628</th>\n",
       "      <td>N418</td>\n",
       "      <td>R269</td>\n",
       "      <td>01-05-00</td>\n",
       "      <td>BEDFORD-NOSTRAN</td>\n",
       "      <td>2016-05-14 12:00:00</td>\n",
       "      <td>2</td>\n",
       "    </tr>\n",
       "    <tr>\n",
       "      <th>322651</th>\n",
       "      <td>N418</td>\n",
       "      <td>R269</td>\n",
       "      <td>01-05-00</td>\n",
       "      <td>BEDFORD-NOSTRAN</td>\n",
       "      <td>2016-05-19 00:00:00</td>\n",
       "      <td>2</td>\n",
       "    </tr>\n",
       "    <tr>\n",
       "      <th>322649</th>\n",
       "      <td>N418</td>\n",
       "      <td>R269</td>\n",
       "      <td>01-05-00</td>\n",
       "      <td>BEDFORD-NOSTRAN</td>\n",
       "      <td>2016-05-18 16:00:00</td>\n",
       "      <td>2</td>\n",
       "    </tr>\n",
       "    <tr>\n",
       "      <th>322648</th>\n",
       "      <td>N418</td>\n",
       "      <td>R269</td>\n",
       "      <td>01-05-00</td>\n",
       "      <td>BEDFORD-NOSTRAN</td>\n",
       "      <td>2016-05-18 12:00:00</td>\n",
       "      <td>2</td>\n",
       "    </tr>\n",
       "    <tr>\n",
       "      <th>322647</th>\n",
       "      <td>N418</td>\n",
       "      <td>R269</td>\n",
       "      <td>01-05-00</td>\n",
       "      <td>BEDFORD-NOSTRAN</td>\n",
       "      <td>2016-05-18 08:00:00</td>\n",
       "      <td>2</td>\n",
       "    </tr>\n",
       "  </tbody>\n",
       "</table>\n",
       "</div>"
      ],
      "text/plain": [
       "         C/A  UNIT       SCP          STATION           DATE_TIME  ENTRIES\n",
       "322628  N418  R269  01-05-00  BEDFORD-NOSTRAN 2016-05-14 12:00:00        2\n",
       "322651  N418  R269  01-05-00  BEDFORD-NOSTRAN 2016-05-19 00:00:00        2\n",
       "322649  N418  R269  01-05-00  BEDFORD-NOSTRAN 2016-05-18 16:00:00        2\n",
       "322648  N418  R269  01-05-00  BEDFORD-NOSTRAN 2016-05-18 12:00:00        2\n",
       "322647  N418  R269  01-05-00  BEDFORD-NOSTRAN 2016-05-18 08:00:00        2"
      ]
     },
     "execution_count": 116,
     "metadata": {},
     "output_type": "execute_result"
    }
   ],
   "source": [
    "# Sanity Check to verify that \"C/A\", \"UNIT\", \"SCP\", \"STATION\", \"DATE_TIME\" is unique\n",
    "(turnstile_df.groupby([\"C/A\", \"UNIT\", \"SCP\", \"STATION\", \"DATE_TIME\"])\n",
    ".ENTRIES.count().reset_index().sort_values(\"ENTRIES\", ascending=False).head())"
   ]
  },
  {
   "cell_type": "markdown",
   "metadata": {
    "collapsed": true
   },
   "source": [
    "Whoa! There are a number of duplicate entries for each unique entry. I need to drop these duplicate entries."
   ]
  },
  {
   "cell_type": "code",
   "execution_count": 117,
   "metadata": {
    "collapsed": false
   },
   "outputs": [],
   "source": [
    "# Get rid of the duplicate entry\n",
    "turnstile_df.sort_values([\"C/A\", \"UNIT\", \"SCP\", \"STATION\", \"DATE_TIME\"], inplace=True, ascending=False)\n",
    "turnstile_df.drop_duplicates(subset=[\"C/A\", \"UNIT\", \"SCP\", \"STATION\", \"DATE_TIME\"], inplace=True)"
   ]
  },
  {
   "cell_type": "code",
   "execution_count": 118,
   "metadata": {
    "collapsed": false
   },
   "outputs": [
    {
     "data": {
      "text/html": [
       "<div>\n",
       "<table border=\"1\" class=\"dataframe\">\n",
       "  <thead>\n",
       "    <tr style=\"text-align: right;\">\n",
       "      <th></th>\n",
       "      <th>C/A</th>\n",
       "      <th>UNIT</th>\n",
       "      <th>SCP</th>\n",
       "      <th>STATION</th>\n",
       "      <th>DATE_TIME</th>\n",
       "      <th>ENTRIES</th>\n",
       "    </tr>\n",
       "  </thead>\n",
       "  <tbody>\n",
       "    <tr>\n",
       "      <th>0</th>\n",
       "      <td>A002</td>\n",
       "      <td>R051</td>\n",
       "      <td>02-00-00</td>\n",
       "      <td>59 ST</td>\n",
       "      <td>2016-04-23 00:00:00</td>\n",
       "      <td>1</td>\n",
       "    </tr>\n",
       "    <tr>\n",
       "      <th>434898</th>\n",
       "      <td>R164</td>\n",
       "      <td>R167</td>\n",
       "      <td>00-03-01</td>\n",
       "      <td>86 ST</td>\n",
       "      <td>2016-05-18 09:00:00</td>\n",
       "      <td>1</td>\n",
       "    </tr>\n",
       "    <tr>\n",
       "      <th>434891</th>\n",
       "      <td>R164</td>\n",
       "      <td>R167</td>\n",
       "      <td>00-03-01</td>\n",
       "      <td>86 ST</td>\n",
       "      <td>2016-05-16 13:00:00</td>\n",
       "      <td>1</td>\n",
       "    </tr>\n",
       "    <tr>\n",
       "      <th>434892</th>\n",
       "      <td>R164</td>\n",
       "      <td>R167</td>\n",
       "      <td>00-03-01</td>\n",
       "      <td>86 ST</td>\n",
       "      <td>2016-05-16 17:00:00</td>\n",
       "      <td>1</td>\n",
       "    </tr>\n",
       "    <tr>\n",
       "      <th>434893</th>\n",
       "      <td>R164</td>\n",
       "      <td>R167</td>\n",
       "      <td>00-03-01</td>\n",
       "      <td>86 ST</td>\n",
       "      <td>2016-05-16 21:00:00</td>\n",
       "      <td>1</td>\n",
       "    </tr>\n",
       "  </tbody>\n",
       "</table>\n",
       "</div>"
      ],
      "text/plain": [
       "         C/A  UNIT       SCP STATION           DATE_TIME  ENTRIES\n",
       "0       A002  R051  02-00-00   59 ST 2016-04-23 00:00:00        1\n",
       "434898  R164  R167  00-03-01   86 ST 2016-05-18 09:00:00        1\n",
       "434891  R164  R167  00-03-01   86 ST 2016-05-16 13:00:00        1\n",
       "434892  R164  R167  00-03-01   86 ST 2016-05-16 17:00:00        1\n",
       "434893  R164  R167  00-03-01   86 ST 2016-05-16 21:00:00        1"
      ]
     },
     "execution_count": 118,
     "metadata": {},
     "output_type": "execute_result"
    }
   ],
   "source": [
    "# Sanity Check to verify that \"C/A\", \"UNIT\", \"SCP\", \"STATION\", \"DATE_TIME\" is unique\n",
    "(turnstile_df\n",
    " .groupby([\"C/A\", \"UNIT\", \"SCP\", \"STATION\", \"DATE_TIME\"])\n",
    " .ENTRIES.count()\n",
    " .reset_index()\n",
    " .sort_values(\"ENTRIES\", ascending=False)).head()"
   ]
  },
  {
   "cell_type": "code",
   "execution_count": 119,
   "metadata": {
    "collapsed": true
   },
   "outputs": [],
   "source": [
    "#Create new columns with previous entries and exits to ensure turnstile is not counting backwards"
   ]
  },
  {
   "cell_type": "code",
   "execution_count": 120,
   "metadata": {
    "collapsed": false
   },
   "outputs": [],
   "source": [
    "turnstile_df[[\"PREV_DATE\", \"PREV_ENTRIES\", \"PREV_EXITS\"]] = (turnstile_df.groupby\n",
    "([\"C/A\", \"UNIT\", \"SCP\", \"STATION\", \"LINENAME\"])\n",
    "[\"DATE\", \"ENTRIES\", \"EXITS\"].transform(lambda grp: grp.shift(1)))"
   ]
  },
  {
   "cell_type": "code",
   "execution_count": 121,
   "metadata": {
    "collapsed": false
   },
   "outputs": [
    {
     "data": {
      "text/html": [
       "<div>\n",
       "<table border=\"1\" class=\"dataframe\">\n",
       "  <thead>\n",
       "    <tr style=\"text-align: right;\">\n",
       "      <th></th>\n",
       "      <th>C/A</th>\n",
       "      <th>UNIT</th>\n",
       "      <th>SCP</th>\n",
       "      <th>STATION</th>\n",
       "      <th>LINENAME</th>\n",
       "      <th>DIVISION</th>\n",
       "      <th>DATE</th>\n",
       "      <th>TIME</th>\n",
       "      <th>DESC</th>\n",
       "      <th>ENTRIES</th>\n",
       "      <th>EXITS</th>\n",
       "      <th>DATE_TIME</th>\n",
       "      <th>WEEKDAY_INDEX</th>\n",
       "      <th>WEEKDAY</th>\n",
       "      <th>PREV_DATE</th>\n",
       "      <th>PREV_ENTRIES</th>\n",
       "      <th>PREV_EXITS</th>\n",
       "    </tr>\n",
       "  </thead>\n",
       "  <tbody>\n",
       "    <tr>\n",
       "      <th>195728</th>\n",
       "      <td>TRAM2</td>\n",
       "      <td>R469</td>\n",
       "      <td>00-05-01</td>\n",
       "      <td>RIT-ROOSEVELT</td>\n",
       "      <td>R</td>\n",
       "      <td>RIT</td>\n",
       "      <td>05/27/2016</td>\n",
       "      <td>21:00:00</td>\n",
       "      <td>REGULAR</td>\n",
       "      <td>5554</td>\n",
       "      <td>246</td>\n",
       "      <td>2016-05-27 21:00:00</td>\n",
       "      <td>4</td>\n",
       "      <td>Friday</td>\n",
       "      <td>NaN</td>\n",
       "      <td>NaN</td>\n",
       "      <td>NaN</td>\n",
       "    </tr>\n",
       "    <tr>\n",
       "      <th>195727</th>\n",
       "      <td>TRAM2</td>\n",
       "      <td>R469</td>\n",
       "      <td>00-05-01</td>\n",
       "      <td>RIT-ROOSEVELT</td>\n",
       "      <td>R</td>\n",
       "      <td>RIT</td>\n",
       "      <td>05/27/2016</td>\n",
       "      <td>17:00:00</td>\n",
       "      <td>REGULAR</td>\n",
       "      <td>5554</td>\n",
       "      <td>246</td>\n",
       "      <td>2016-05-27 17:00:00</td>\n",
       "      <td>4</td>\n",
       "      <td>Friday</td>\n",
       "      <td>05/27/2016</td>\n",
       "      <td>5554.0</td>\n",
       "      <td>246.0</td>\n",
       "    </tr>\n",
       "    <tr>\n",
       "      <th>195726</th>\n",
       "      <td>TRAM2</td>\n",
       "      <td>R469</td>\n",
       "      <td>00-05-01</td>\n",
       "      <td>RIT-ROOSEVELT</td>\n",
       "      <td>R</td>\n",
       "      <td>RIT</td>\n",
       "      <td>05/27/2016</td>\n",
       "      <td>13:00:00</td>\n",
       "      <td>REGULAR</td>\n",
       "      <td>5554</td>\n",
       "      <td>246</td>\n",
       "      <td>2016-05-27 13:00:00</td>\n",
       "      <td>4</td>\n",
       "      <td>Friday</td>\n",
       "      <td>05/27/2016</td>\n",
       "      <td>5554.0</td>\n",
       "      <td>246.0</td>\n",
       "    </tr>\n",
       "    <tr>\n",
       "      <th>195725</th>\n",
       "      <td>TRAM2</td>\n",
       "      <td>R469</td>\n",
       "      <td>00-05-01</td>\n",
       "      <td>RIT-ROOSEVELT</td>\n",
       "      <td>R</td>\n",
       "      <td>RIT</td>\n",
       "      <td>05/27/2016</td>\n",
       "      <td>09:00:00</td>\n",
       "      <td>REGULAR</td>\n",
       "      <td>5554</td>\n",
       "      <td>246</td>\n",
       "      <td>2016-05-27 09:00:00</td>\n",
       "      <td>4</td>\n",
       "      <td>Friday</td>\n",
       "      <td>05/27/2016</td>\n",
       "      <td>5554.0</td>\n",
       "      <td>246.0</td>\n",
       "    </tr>\n",
       "    <tr>\n",
       "      <th>195722</th>\n",
       "      <td>TRAM2</td>\n",
       "      <td>R469</td>\n",
       "      <td>00-05-01</td>\n",
       "      <td>RIT-ROOSEVELT</td>\n",
       "      <td>R</td>\n",
       "      <td>RIT</td>\n",
       "      <td>05/26/2016</td>\n",
       "      <td>21:00:00</td>\n",
       "      <td>REGULAR</td>\n",
       "      <td>5554</td>\n",
       "      <td>246</td>\n",
       "      <td>2016-05-26 21:00:00</td>\n",
       "      <td>3</td>\n",
       "      <td>Thursday</td>\n",
       "      <td>05/27/2016</td>\n",
       "      <td>5554.0</td>\n",
       "      <td>246.0</td>\n",
       "    </tr>\n",
       "  </tbody>\n",
       "</table>\n",
       "</div>"
      ],
      "text/plain": [
       "          C/A  UNIT       SCP        STATION LINENAME DIVISION        DATE  \\\n",
       "195728  TRAM2  R469  00-05-01  RIT-ROOSEVELT        R      RIT  05/27/2016   \n",
       "195727  TRAM2  R469  00-05-01  RIT-ROOSEVELT        R      RIT  05/27/2016   \n",
       "195726  TRAM2  R469  00-05-01  RIT-ROOSEVELT        R      RIT  05/27/2016   \n",
       "195725  TRAM2  R469  00-05-01  RIT-ROOSEVELT        R      RIT  05/27/2016   \n",
       "195722  TRAM2  R469  00-05-01  RIT-ROOSEVELT        R      RIT  05/26/2016   \n",
       "\n",
       "            TIME     DESC  ENTRIES  EXITS           DATE_TIME  WEEKDAY_INDEX  \\\n",
       "195728  21:00:00  REGULAR     5554    246 2016-05-27 21:00:00              4   \n",
       "195727  17:00:00  REGULAR     5554    246 2016-05-27 17:00:00              4   \n",
       "195726  13:00:00  REGULAR     5554    246 2016-05-27 13:00:00              4   \n",
       "195725  09:00:00  REGULAR     5554    246 2016-05-27 09:00:00              4   \n",
       "195722  21:00:00  REGULAR     5554    246 2016-05-26 21:00:00              3   \n",
       "\n",
       "         WEEKDAY   PREV_DATE  PREV_ENTRIES  PREV_EXITS  \n",
       "195728    Friday         NaN           NaN         NaN  \n",
       "195727    Friday  05/27/2016        5554.0       246.0  \n",
       "195726    Friday  05/27/2016        5554.0       246.0  \n",
       "195725    Friday  05/27/2016        5554.0       246.0  \n",
       "195722  Thursday  05/27/2016        5554.0       246.0  "
      ]
     },
     "execution_count": 121,
     "metadata": {},
     "output_type": "execute_result"
    }
   ],
   "source": [
    "turnstile_df.head()"
   ]
  },
  {
   "cell_type": "code",
   "execution_count": 122,
   "metadata": {
    "collapsed": false
   },
   "outputs": [],
   "source": [
    "# Drop the rows for first date to red rid of N/A values\n",
    "turnstile_df.dropna(subset=[\"PREV_DATE\"], axis=0, inplace=True)"
   ]
  },
  {
   "cell_type": "code",
   "execution_count": 123,
   "metadata": {
    "collapsed": false
   },
   "outputs": [
    {
     "data": {
      "text/html": [
       "<div>\n",
       "<table border=\"1\" class=\"dataframe\">\n",
       "  <thead>\n",
       "    <tr style=\"text-align: right;\">\n",
       "      <th></th>\n",
       "      <th>C/A</th>\n",
       "      <th>UNIT</th>\n",
       "      <th>SCP</th>\n",
       "      <th>STATION</th>\n",
       "      <th>LINENAME</th>\n",
       "      <th>DIVISION</th>\n",
       "      <th>DATE</th>\n",
       "      <th>TIME</th>\n",
       "      <th>ENTRIES</th>\n",
       "      <th>EXITS</th>\n",
       "      <th>DATE_TIME</th>\n",
       "      <th>WEEKDAY_INDEX</th>\n",
       "      <th>WEEKDAY</th>\n",
       "      <th>PREV_ENTRIES</th>\n",
       "      <th>PREV_EXITS</th>\n",
       "    </tr>\n",
       "  </thead>\n",
       "  <tbody>\n",
       "    <tr>\n",
       "      <th>195727</th>\n",
       "      <td>TRAM2</td>\n",
       "      <td>R469</td>\n",
       "      <td>00-05-01</td>\n",
       "      <td>RIT-ROOSEVELT</td>\n",
       "      <td>R</td>\n",
       "      <td>RIT</td>\n",
       "      <td>05/27/2016</td>\n",
       "      <td>17:00:00</td>\n",
       "      <td>5554</td>\n",
       "      <td>246</td>\n",
       "      <td>2016-05-27 17:00:00</td>\n",
       "      <td>4</td>\n",
       "      <td>Friday</td>\n",
       "      <td>5554.0</td>\n",
       "      <td>246.0</td>\n",
       "    </tr>\n",
       "    <tr>\n",
       "      <th>195726</th>\n",
       "      <td>TRAM2</td>\n",
       "      <td>R469</td>\n",
       "      <td>00-05-01</td>\n",
       "      <td>RIT-ROOSEVELT</td>\n",
       "      <td>R</td>\n",
       "      <td>RIT</td>\n",
       "      <td>05/27/2016</td>\n",
       "      <td>13:00:00</td>\n",
       "      <td>5554</td>\n",
       "      <td>246</td>\n",
       "      <td>2016-05-27 13:00:00</td>\n",
       "      <td>4</td>\n",
       "      <td>Friday</td>\n",
       "      <td>5554.0</td>\n",
       "      <td>246.0</td>\n",
       "    </tr>\n",
       "    <tr>\n",
       "      <th>195725</th>\n",
       "      <td>TRAM2</td>\n",
       "      <td>R469</td>\n",
       "      <td>00-05-01</td>\n",
       "      <td>RIT-ROOSEVELT</td>\n",
       "      <td>R</td>\n",
       "      <td>RIT</td>\n",
       "      <td>05/27/2016</td>\n",
       "      <td>09:00:00</td>\n",
       "      <td>5554</td>\n",
       "      <td>246</td>\n",
       "      <td>2016-05-27 09:00:00</td>\n",
       "      <td>4</td>\n",
       "      <td>Friday</td>\n",
       "      <td>5554.0</td>\n",
       "      <td>246.0</td>\n",
       "    </tr>\n",
       "    <tr>\n",
       "      <th>195722</th>\n",
       "      <td>TRAM2</td>\n",
       "      <td>R469</td>\n",
       "      <td>00-05-01</td>\n",
       "      <td>RIT-ROOSEVELT</td>\n",
       "      <td>R</td>\n",
       "      <td>RIT</td>\n",
       "      <td>05/26/2016</td>\n",
       "      <td>21:00:00</td>\n",
       "      <td>5554</td>\n",
       "      <td>246</td>\n",
       "      <td>2016-05-26 21:00:00</td>\n",
       "      <td>3</td>\n",
       "      <td>Thursday</td>\n",
       "      <td>5554.0</td>\n",
       "      <td>246.0</td>\n",
       "    </tr>\n",
       "    <tr>\n",
       "      <th>195721</th>\n",
       "      <td>TRAM2</td>\n",
       "      <td>R469</td>\n",
       "      <td>00-05-01</td>\n",
       "      <td>RIT-ROOSEVELT</td>\n",
       "      <td>R</td>\n",
       "      <td>RIT</td>\n",
       "      <td>05/26/2016</td>\n",
       "      <td>17:00:00</td>\n",
       "      <td>5554</td>\n",
       "      <td>246</td>\n",
       "      <td>2016-05-26 17:00:00</td>\n",
       "      <td>3</td>\n",
       "      <td>Thursday</td>\n",
       "      <td>5554.0</td>\n",
       "      <td>246.0</td>\n",
       "    </tr>\n",
       "  </tbody>\n",
       "</table>\n",
       "</div>"
      ],
      "text/plain": [
       "          C/A  UNIT       SCP        STATION LINENAME DIVISION        DATE  \\\n",
       "195727  TRAM2  R469  00-05-01  RIT-ROOSEVELT        R      RIT  05/27/2016   \n",
       "195726  TRAM2  R469  00-05-01  RIT-ROOSEVELT        R      RIT  05/27/2016   \n",
       "195725  TRAM2  R469  00-05-01  RIT-ROOSEVELT        R      RIT  05/27/2016   \n",
       "195722  TRAM2  R469  00-05-01  RIT-ROOSEVELT        R      RIT  05/26/2016   \n",
       "195721  TRAM2  R469  00-05-01  RIT-ROOSEVELT        R      RIT  05/26/2016   \n",
       "\n",
       "            TIME  ENTRIES  EXITS           DATE_TIME  WEEKDAY_INDEX   WEEKDAY  \\\n",
       "195727  17:00:00     5554    246 2016-05-27 17:00:00              4    Friday   \n",
       "195726  13:00:00     5554    246 2016-05-27 13:00:00              4    Friday   \n",
       "195725  09:00:00     5554    246 2016-05-27 09:00:00              4    Friday   \n",
       "195722  21:00:00     5554    246 2016-05-26 21:00:00              3  Thursday   \n",
       "195721  17:00:00     5554    246 2016-05-26 17:00:00              3  Thursday   \n",
       "\n",
       "        PREV_ENTRIES  PREV_EXITS  \n",
       "195727        5554.0       246.0  \n",
       "195726        5554.0       246.0  \n",
       "195725        5554.0       246.0  \n",
       "195722        5554.0       246.0  \n",
       "195721        5554.0       246.0  "
      ]
     },
     "execution_count": 123,
     "metadata": {},
     "output_type": "execute_result"
    }
   ],
   "source": [
    "# Drop previous date as we don;t need it\n",
    "turnstile_df= turnstile_df.drop([\"DESC\", \"PREV_DATE\"], axis=1, errors=\"ignore\" )\n",
    "turnstile_df.head()"
   ]
  },
  {
   "cell_type": "code",
   "execution_count": 124,
   "metadata": {
    "collapsed": false
   },
   "outputs": [
    {
     "data": {
      "text/html": [
       "<div>\n",
       "<table border=\"1\" class=\"dataframe\">\n",
       "  <thead>\n",
       "    <tr style=\"text-align: right;\">\n",
       "      <th></th>\n",
       "      <th>C/A</th>\n",
       "      <th>UNIT</th>\n",
       "      <th>SCP</th>\n",
       "      <th>STATION</th>\n",
       "      <th>DATE</th>\n",
       "      <th>ENTRIES</th>\n",
       "    </tr>\n",
       "  </thead>\n",
       "  <tbody>\n",
       "    <tr>\n",
       "      <th>0</th>\n",
       "      <td>A002</td>\n",
       "      <td>R051</td>\n",
       "      <td>02-00-00</td>\n",
       "      <td>59 ST</td>\n",
       "      <td>04/23/2016</td>\n",
       "      <td>5630961</td>\n",
       "    </tr>\n",
       "    <tr>\n",
       "      <th>1</th>\n",
       "      <td>A002</td>\n",
       "      <td>R051</td>\n",
       "      <td>02-00-00</td>\n",
       "      <td>59 ST</td>\n",
       "      <td>04/24/2016</td>\n",
       "      <td>5631684</td>\n",
       "    </tr>\n",
       "    <tr>\n",
       "      <th>2</th>\n",
       "      <td>A002</td>\n",
       "      <td>R051</td>\n",
       "      <td>02-00-00</td>\n",
       "      <td>59 ST</td>\n",
       "      <td>04/25/2016</td>\n",
       "      <td>5633503</td>\n",
       "    </tr>\n",
       "    <tr>\n",
       "      <th>3</th>\n",
       "      <td>A002</td>\n",
       "      <td>R051</td>\n",
       "      <td>02-00-00</td>\n",
       "      <td>59 ST</td>\n",
       "      <td>04/26/2016</td>\n",
       "      <td>5635180</td>\n",
       "    </tr>\n",
       "    <tr>\n",
       "      <th>4</th>\n",
       "      <td>A002</td>\n",
       "      <td>R051</td>\n",
       "      <td>02-00-00</td>\n",
       "      <td>59 ST</td>\n",
       "      <td>04/27/2016</td>\n",
       "      <td>5636704</td>\n",
       "    </tr>\n",
       "  </tbody>\n",
       "</table>\n",
       "</div>"
      ],
      "text/plain": [
       "    C/A  UNIT       SCP STATION        DATE  ENTRIES\n",
       "0  A002  R051  02-00-00   59 ST  04/23/2016  5630961\n",
       "1  A002  R051  02-00-00   59 ST  04/24/2016  5631684\n",
       "2  A002  R051  02-00-00   59 ST  04/25/2016  5633503\n",
       "3  A002  R051  02-00-00   59 ST  04/26/2016  5635180\n",
       "4  A002  R051  02-00-00   59 ST  04/27/2016  5636704"
      ]
     },
     "execution_count": 124,
     "metadata": {},
     "output_type": "execute_result"
    }
   ],
   "source": [
    "turnstile_df_daily = turnstile_df.groupby(\n",
    "[\"C/A\", \"UNIT\", \"SCP\", \"STATION\", \"DATE\"]).ENTRIES.first().reset_index()\n",
    "turnstile_df_daily.head()"
   ]
  },
  {
   "cell_type": "code",
   "execution_count": 125,
   "metadata": {
    "collapsed": false
   },
   "outputs": [
    {
     "data": {
      "text/html": [
       "<div>\n",
       "<table border=\"1\" class=\"dataframe\">\n",
       "  <thead>\n",
       "    <tr style=\"text-align: right;\">\n",
       "      <th></th>\n",
       "      <th>C/A</th>\n",
       "      <th>UNIT</th>\n",
       "      <th>SCP</th>\n",
       "      <th>STATION</th>\n",
       "      <th>LINENAME</th>\n",
       "      <th>DIVISION</th>\n",
       "      <th>DATE</th>\n",
       "      <th>TIME</th>\n",
       "      <th>ENTRIES</th>\n",
       "      <th>EXITS</th>\n",
       "      <th>DATE_TIME</th>\n",
       "      <th>WEEKDAY_INDEX</th>\n",
       "      <th>WEEKDAY</th>\n",
       "      <th>PREV_ENTRIES</th>\n",
       "      <th>PREV_EXITS</th>\n",
       "    </tr>\n",
       "  </thead>\n",
       "  <tbody>\n",
       "    <tr>\n",
       "      <th>193361</th>\n",
       "      <td>TRAM2</td>\n",
       "      <td>R469</td>\n",
       "      <td>00-05-01</td>\n",
       "      <td>RIT-ROOSEVELT</td>\n",
       "      <td>R</td>\n",
       "      <td>RIT</td>\n",
       "      <td>05/15/2016</td>\n",
       "      <td>13:00:00</td>\n",
       "      <td>5554</td>\n",
       "      <td>245</td>\n",
       "      <td>2016-05-15 13:00:00</td>\n",
       "      <td>6</td>\n",
       "      <td>Sunday</td>\n",
       "      <td>5554.0</td>\n",
       "      <td>246.0</td>\n",
       "    </tr>\n",
       "    <tr>\n",
       "      <th>194450</th>\n",
       "      <td>TRAM2</td>\n",
       "      <td>R469</td>\n",
       "      <td>00-05-01</td>\n",
       "      <td>RIT-ROOSEVELT</td>\n",
       "      <td>R</td>\n",
       "      <td>RIT</td>\n",
       "      <td>05/04/2016</td>\n",
       "      <td>09:00:00</td>\n",
       "      <td>5554</td>\n",
       "      <td>244</td>\n",
       "      <td>2016-05-04 09:00:00</td>\n",
       "      <td>2</td>\n",
       "      <td>Wednesday</td>\n",
       "      <td>5554.0</td>\n",
       "      <td>245.0</td>\n",
       "    </tr>\n",
       "    <tr>\n",
       "      <th>195644</th>\n",
       "      <td>TRAM2</td>\n",
       "      <td>R469</td>\n",
       "      <td>00-03-01</td>\n",
       "      <td>RIT-ROOSEVELT</td>\n",
       "      <td>R</td>\n",
       "      <td>RIT</td>\n",
       "      <td>05/27/2016</td>\n",
       "      <td>17:00:00</td>\n",
       "      <td>2627062</td>\n",
       "      <td>377440</td>\n",
       "      <td>2016-05-27 17:00:00</td>\n",
       "      <td>4</td>\n",
       "      <td>Friday</td>\n",
       "      <td>2627128.0</td>\n",
       "      <td>377442.0</td>\n",
       "    </tr>\n",
       "    <tr>\n",
       "      <th>195643</th>\n",
       "      <td>TRAM2</td>\n",
       "      <td>R469</td>\n",
       "      <td>00-03-01</td>\n",
       "      <td>RIT-ROOSEVELT</td>\n",
       "      <td>R</td>\n",
       "      <td>RIT</td>\n",
       "      <td>05/27/2016</td>\n",
       "      <td>13:00:00</td>\n",
       "      <td>2626973</td>\n",
       "      <td>377439</td>\n",
       "      <td>2016-05-27 13:00:00</td>\n",
       "      <td>4</td>\n",
       "      <td>Friday</td>\n",
       "      <td>2627062.0</td>\n",
       "      <td>377440.0</td>\n",
       "    </tr>\n",
       "    <tr>\n",
       "      <th>195642</th>\n",
       "      <td>TRAM2</td>\n",
       "      <td>R469</td>\n",
       "      <td>00-03-01</td>\n",
       "      <td>RIT-ROOSEVELT</td>\n",
       "      <td>R</td>\n",
       "      <td>RIT</td>\n",
       "      <td>05/27/2016</td>\n",
       "      <td>09:00:00</td>\n",
       "      <td>2626905</td>\n",
       "      <td>377438</td>\n",
       "      <td>2016-05-27 09:00:00</td>\n",
       "      <td>4</td>\n",
       "      <td>Friday</td>\n",
       "      <td>2626973.0</td>\n",
       "      <td>377439.0</td>\n",
       "    </tr>\n",
       "  </tbody>\n",
       "</table>\n",
       "</div>"
      ],
      "text/plain": [
       "          C/A  UNIT       SCP        STATION LINENAME DIVISION        DATE  \\\n",
       "193361  TRAM2  R469  00-05-01  RIT-ROOSEVELT        R      RIT  05/15/2016   \n",
       "194450  TRAM2  R469  00-05-01  RIT-ROOSEVELT        R      RIT  05/04/2016   \n",
       "195644  TRAM2  R469  00-03-01  RIT-ROOSEVELT        R      RIT  05/27/2016   \n",
       "195643  TRAM2  R469  00-03-01  RIT-ROOSEVELT        R      RIT  05/27/2016   \n",
       "195642  TRAM2  R469  00-03-01  RIT-ROOSEVELT        R      RIT  05/27/2016   \n",
       "\n",
       "            TIME  ENTRIES   EXITS           DATE_TIME  WEEKDAY_INDEX  \\\n",
       "193361  13:00:00     5554     245 2016-05-15 13:00:00              6   \n",
       "194450  09:00:00     5554     244 2016-05-04 09:00:00              2   \n",
       "195644  17:00:00  2627062  377440 2016-05-27 17:00:00              4   \n",
       "195643  13:00:00  2626973  377439 2016-05-27 13:00:00              4   \n",
       "195642  09:00:00  2626905  377438 2016-05-27 09:00:00              4   \n",
       "\n",
       "          WEEKDAY  PREV_ENTRIES  PREV_EXITS  \n",
       "193361     Sunday        5554.0       246.0  \n",
       "194450  Wednesday        5554.0       245.0  \n",
       "195644     Friday     2627128.0    377442.0  \n",
       "195643     Friday     2627062.0    377440.0  \n",
       "195642     Friday     2626973.0    377439.0  "
      ]
     },
     "execution_count": 125,
     "metadata": {},
     "output_type": "execute_result"
    }
   ],
   "source": [
    "# sanity check on entries to ensure that turnstiles are not counting backwards\n",
    "#The query below should return an empty dataframe\n",
    "turnstile_df[turnstile_df[\"ENTRIES\"] < turnstile_df[\"PREV_ENTRIES\"]].head()\n",
    "turnstile_df[turnstile_df[\"EXITS\"] < turnstile_df[\"PREV_EXITS\"]].head()"
   ]
  },
  {
   "cell_type": "code",
   "execution_count": 126,
   "metadata": {
    "collapsed": false
   },
   "outputs": [
    {
     "data": {
      "text/plain": [
       "C/A    UNIT  SCP       STATION      \n",
       "A002   R051  02-00-00  59 ST            174\n",
       "             02-00-01  59 ST            171\n",
       "             02-03-00  59 ST            172\n",
       "             02-03-01  59 ST            174\n",
       "             02-03-02  59 ST            124\n",
       "             02-03-03  59 ST            174\n",
       "             02-03-04  59 ST            174\n",
       "             02-03-05  59 ST            174\n",
       "             02-03-06  59 ST            174\n",
       "             02-05-00  59 ST              6\n",
       "             02-06-00  59 ST            174\n",
       "A010   R080  00-00-00  57 ST-7 AV       173\n",
       "             00-00-01  57 ST-7 AV       174\n",
       "             00-00-02  57 ST-7 AV       174\n",
       "             00-00-03  57 ST-7 AV       174\n",
       "             00-00-04  57 ST-7 AV       174\n",
       "             00-00-05  57 ST-7 AV       174\n",
       "             00-00-06  57 ST-7 AV       174\n",
       "             00-00-07  57 ST-7 AV       174\n",
       "A011   R080  01-00-01  57 ST-7 AV       174\n",
       "             01-00-02  57 ST-7 AV       174\n",
       "             01-00-03  57 ST-7 AV       174\n",
       "A013   R081  01-00-00  49 ST            174\n",
       "             01-03-00  49 ST            174\n",
       "             01-03-01  49 ST            174\n",
       "             01-03-02  49 ST            174\n",
       "             01-05-00  49 ST              9\n",
       "A014   R081  02-00-00  49 ST            174\n",
       "             02-00-01  49 ST            174\n",
       "             02-00-02  49 ST            174\n",
       "                                       ... \n",
       "S101   R070  00-00-05  ST. GEORGE       174\n",
       "             00-00-06  ST. GEORGE       172\n",
       "             00-00-07  ST. GEORGE       169\n",
       "             00-00-08  ST. GEORGE       173\n",
       "             00-03-00  ST. GEORGE       174\n",
       "             00-03-01  ST. GEORGE       174\n",
       "             00-03-02  ST. GEORGE       174\n",
       "             00-03-03  ST. GEORGE       174\n",
       "S101A  R070  01-00-00  ST. GEORGE       173\n",
       "             01-00-01  ST. GEORGE       174\n",
       "             01-00-02  ST. GEORGE       173\n",
       "             01-00-03  ST. GEORGE       174\n",
       "             01-00-04  ST. GEORGE       174\n",
       "             01-00-05  ST. GEORGE       174\n",
       "             01-00-06  ST. GEORGE       174\n",
       "             01-03-00  ST. GEORGE       174\n",
       "             01-03-01  ST. GEORGE       174\n",
       "             01-03-02  ST. GEORGE       174\n",
       "             01-03-03  ST. GEORGE       174\n",
       "             01-05-00  ST. GEORGE         7\n",
       "             01-05-01  ST. GEORGE         4\n",
       "TRAM1  R468  00-00-00  RIT-MANHATTAN    139\n",
       "             00-00-01  RIT-MANHATTAN    139\n",
       "             00-00-02  RIT-MANHATTAN    139\n",
       "             00-05-00  RIT-MANHATTAN     40\n",
       "TRAM2  R469  00-00-00  RIT-ROOSEVELT    139\n",
       "             00-00-01  RIT-ROOSEVELT    139\n",
       "             00-03-00  RIT-ROOSEVELT    139\n",
       "             00-03-01  RIT-ROOSEVELT    139\n",
       "             00-05-00  RIT-ROOSEVELT     41\n",
       "dtype: int64"
      ]
     },
     "execution_count": 126,
     "metadata": {},
     "output_type": "execute_result"
    }
   ],
   "source": [
    "#There are turnstiles which can are counting backwards as seen above\n",
    "# Let's see how many stations have this problem\n",
    "(turnstile_df[turnstile_df[\"ENTRIES\"] < turnstile_df[\"PREV_ENTRIES\"]]\n",
    "    .groupby([\"C/A\", \"UNIT\", \"SCP\", \"STATION\"])\n",
    "     .size())"
   ]
  },
  {
   "cell_type": "markdown",
   "metadata": {},
   "source": [
    "In additon to the turnstiles counting backwards, the entries and exits are cumulative. I will\n",
    "create one function each for entries and exits that do the following:  \n",
    "(i) Find the difference between entries and previous entries to get the actual entries  \n",
    "(ii) Get rid if any actual entry values greater than 10000 as they are outliers  \n",
    "(iii) Reverse the sign/takes abs value of actual entries for turnstiles counting backwards  "
   ]
  },
  {
   "cell_type": "code",
   "execution_count": 127,
   "metadata": {
    "collapsed": false
   },
   "outputs": [],
   "source": [
    "def get_daily_counts(row, max_counter):\n",
    "    counter = row[\"ENTRIES\"] - row[\"PREV_ENTRIES\"]\n",
    "    if counter < 0:\n",
    "        # make an assumption\n",
    "        counter = -counter\n",
    "    if counter > max_counter:\n",
    "        #print(row[\"ENTRIES\"], row[\"PREV_ENTRIES\"])\n",
    "        return 0\n",
    "    return counter\n",
    "\n",
    "# If counter is > 10000, then the counter might have been reset.  \n",
    "# Just set it to zero as different counters have different cycle limits\n",
    "_ = turnstile_df.apply(get_daily_counts, axis=1, max_counter=10000)"
   ]
  },
  {
   "cell_type": "code",
   "execution_count": 128,
   "metadata": {
    "collapsed": false
   },
   "outputs": [],
   "source": [
    "def get_daily_counts_1(row, max_counter):\n",
    "    counter = row[\"EXITS\"] - row[\"PREV_EXITS\"]\n",
    "    if counter < 0:\n",
    "        # make an assumption\n",
    "        counter = -counter\n",
    "    if counter > max_counter:\n",
    "        #print(row[\"EXITS\"], row[\"PREV_EXITS\"])\n",
    "        return 0\n",
    "    return counter\n",
    "\n",
    "# If counter is > 10000, then the counter might have been reset.  \n",
    "# Just set it to zero as different counters have different cycle limits\n",
    "_ = turnstile_df.apply(get_daily_counts_1, axis=1, max_counter=10000)"
   ]
  },
  {
   "cell_type": "code",
   "execution_count": 129,
   "metadata": {
    "collapsed": false
   },
   "outputs": [],
   "source": [
    "turnstile_df['DAILY_ENTRIES'] = turnstile_df.apply(get_daily_counts, axis=1, max_counter=10000)\n",
    "turnstile_df['DAILY_EXITS'] = turnstile_df.apply(get_daily_counts_1, axis=1, max_counter=10000)"
   ]
  },
  {
   "cell_type": "markdown",
   "metadata": {},
   "source": [
    "The last step in cleaning involves combining station and linename to create unique station as\n",
    "there is more than one station with the same name, i.e. 86th street is both in manhattan\n",
    "and brooklyn."
   ]
  },
  {
   "cell_type": "code",
   "execution_count": 130,
   "metadata": {
    "collapsed": false
   },
   "outputs": [],
   "source": [
    "turnstile_df['UNIQUE_STATION'] = turnstile_df['STATION'] + '-' + turnstile_df['LINENAME']"
   ]
  },
  {
   "cell_type": "markdown",
   "metadata": {},
   "source": [
    "Now I am ready to plot and gain some insights into the data."
   ]
  },
  {
   "cell_type": "markdown",
   "metadata": {},
   "source": [
    "# Visualizing MTA turnstile data with pandas"
   ]
  },
  {
   "cell_type": "markdown",
   "metadata": {},
   "source": [
    "1. Plotting cumulative entries and exits for a single station over the entire period (GRD CNTRL-42 ST)"
   ]
  },
  {
   "cell_type": "code",
   "execution_count": 131,
   "metadata": {
    "collapsed": false
   },
   "outputs": [
    {
     "name": "stderr",
     "output_type": "stream",
     "text": [
      "/Users/abhisekswain/anaconda/lib/python2.7/site-packages/ipykernel/__main__.py:7: FutureWarning: pd.rolling_mean is deprecated for Series and will be removed in a future version, replace with \n",
      "\tSeries.rolling(center=False,window=14,axis=0).mean()\n"
     ]
    },
    {
     "data": {
      "text/plain": [
       "<matplotlib.text.Text at 0x1119468d0>"
      ]
     },
     "execution_count": 131,
     "metadata": {},
     "output_type": "execute_result"
    },
    {
     "data": {
      "image/png": "[encoded data removed]",
      "text/plain": [
       "<matplotlib.figure.Figure at 0x10f47de90>"
      ]
     },
     "metadata": {},
     "output_type": "display_data"
    }
   ],
   "source": [
    "# Plot cumulative entries\n",
    "mask = ((turnstile_df[\"C/A\"] == \"R236\") & (turnstile_df[\"UNIT\"] == \"R045\") & \n",
    "        (turnstile_df[\"SCP\"] == \"00-00-00\") & (turnstile_df[\"STATION\"] == \"GRD CNTRL-42 ST\"))\n",
    "plt.figure(figsize=(10,3))\n",
    "plt.title(\"Cumulative plot of entries for single turnstile at Grand Central Station\")\n",
    "plt.plot(pd.to_datetime(turnstile_df[mask].DATE), \n",
    "         (pd.rolling_window(turnstile_df[mask].ENTRIES, 14)))\n",
    "plt.xlabel('date')\n",
    "plt.ylabel('cuumulative entries')"
   ]
  },
  {
   "cell_type": "code",
   "execution_count": 132,
   "metadata": {
    "collapsed": false
   },
   "outputs": [
    {
     "name": "stderr",
     "output_type": "stream",
     "text": [
      "/Users/abhisekswain/anaconda/lib/python2.7/site-packages/ipykernel/__main__.py:4: FutureWarning: pd.rolling_mean is deprecated for Series and will be removed in a future version, replace with \n",
      "\tSeries.rolling(center=False,window=14,axis=0).mean()\n"
     ]
    },
    {
     "data": {
      "text/plain": [
       "<matplotlib.text.Text at 0x11266c450>"
      ]
     },
     "execution_count": 132,
     "metadata": {},
     "output_type": "execute_result"
    },
    {
     "data": {
      "image/png": "[encoded data removed]",
      "text/plain": [
       "<matplotlib.figure.Figure at 0x1407a1fd0>"
      ]
     },
     "metadata": {},
     "output_type": "display_data"
    }
   ],
   "source": [
    "plt.figure(figsize=(10,3))\n",
    "plt.title(\"Cumulative plot of exits for single turnstile at Grand Central Station\")\n",
    "plt.plot(pd.to_datetime(turnstile_df[mask].DATE), \n",
    "         (pd.rolling_window(turnstile_df[mask].EXITS, 14)))\n",
    "plt.xlabel('date')\n",
    "plt.ylabel('cuumulative exits')"
   ]
  },
  {
   "cell_type": "markdown",
   "metadata": {},
   "source": []
  },
  {
   "cell_type": "markdown",
   "metadata": {},
   "source": [
    "Here I will combine everything in each station, and come up with a [(date1, count1),(date2,count2),...] type of time series for each STATION, by adding up all the turnstiles in a station. The counts are for daily entires and daily exits(not cumulative)."
   ]
  },
  {
   "cell_type": "code",
   "execution_count": 133,
   "metadata": {
    "collapsed": false
   },
   "outputs": [
    {
     "data": {
      "text/html": [
       "<div>\n",
       "<table border=\"1\" class=\"dataframe\">\n",
       "  <thead>\n",
       "    <tr style=\"text-align: right;\">\n",
       "      <th></th>\n",
       "      <th>STATION</th>\n",
       "      <th>DATE</th>\n",
       "      <th>DAILY_ENTRIES</th>\n",
       "      <th>DAILY_EXITS</th>\n",
       "    </tr>\n",
       "  </thead>\n",
       "  <tbody>\n",
       "    <tr>\n",
       "      <th>0</th>\n",
       "      <td>1 AV</td>\n",
       "      <td>04/23/2016</td>\n",
       "      <td>19441.0</td>\n",
       "      <td>20950.0</td>\n",
       "    </tr>\n",
       "    <tr>\n",
       "      <th>1</th>\n",
       "      <td>1 AV</td>\n",
       "      <td>04/24/2016</td>\n",
       "      <td>15811.0</td>\n",
       "      <td>16685.0</td>\n",
       "    </tr>\n",
       "    <tr>\n",
       "      <th>2</th>\n",
       "      <td>1 AV</td>\n",
       "      <td>04/25/2016</td>\n",
       "      <td>20761.0</td>\n",
       "      <td>21359.0</td>\n",
       "    </tr>\n",
       "    <tr>\n",
       "      <th>3</th>\n",
       "      <td>1 AV</td>\n",
       "      <td>04/26/2016</td>\n",
       "      <td>21686.0</td>\n",
       "      <td>22917.0</td>\n",
       "    </tr>\n",
       "    <tr>\n",
       "      <th>4</th>\n",
       "      <td>1 AV</td>\n",
       "      <td>04/27/2016</td>\n",
       "      <td>22780.0</td>\n",
       "      <td>22866.0</td>\n",
       "    </tr>\n",
       "  </tbody>\n",
       "</table>\n",
       "</div>"
      ],
      "text/plain": [
       "  STATION        DATE  DAILY_ENTRIES  DAILY_EXITS\n",
       "0    1 AV  04/23/2016        19441.0      20950.0\n",
       "1    1 AV  04/24/2016        15811.0      16685.0\n",
       "2    1 AV  04/25/2016        20761.0      21359.0\n",
       "3    1 AV  04/26/2016        21686.0      22917.0\n",
       "4    1 AV  04/27/2016        22780.0      22866.0"
      ]
     },
     "execution_count": 133,
     "metadata": {},
     "output_type": "execute_result"
    }
   ],
   "source": [
    "turnstile_df_STATION = turnstile_df.groupby(['STATION','DATE'],as_index = False)[\"DAILY_ENTRIES\", \"DAILY_EXITS\"].sum()\n",
    "turnstile_df_STATION.head()"
   ]
  },
  {
   "cell_type": "markdown",
   "metadata": {},
   "source": [
    "Plotting time series for Grand Central -42 St"
   ]
  },
  {
   "cell_type": "code",
   "execution_count": 134,
   "metadata": {
    "collapsed": false
   },
   "outputs": [],
   "source": [
    "turnstile_df_STATION['DATE'] = pd.to_datetime(turnstile_df_STATION['DATE'])"
   ]
  },
  {
   "cell_type": "code",
   "execution_count": 135,
   "metadata": {
    "collapsed": false
   },
   "outputs": [
    {
     "data": {
      "text/html": [
       "<div>\n",
       "<table border=\"1\" class=\"dataframe\">\n",
       "  <thead>\n",
       "    <tr style=\"text-align: right;\">\n",
       "      <th></th>\n",
       "      <th>STATION</th>\n",
       "      <th>DATE</th>\n",
       "      <th>DAILY_ENTRIES</th>\n",
       "      <th>DAILY_EXITS</th>\n",
       "    </tr>\n",
       "  </thead>\n",
       "  <tbody>\n",
       "    <tr>\n",
       "      <th>0</th>\n",
       "      <td>1 AV</td>\n",
       "      <td>2016-04-23</td>\n",
       "      <td>19441.0</td>\n",
       "      <td>20950.0</td>\n",
       "    </tr>\n",
       "    <tr>\n",
       "      <th>1</th>\n",
       "      <td>1 AV</td>\n",
       "      <td>2016-04-24</td>\n",
       "      <td>15811.0</td>\n",
       "      <td>16685.0</td>\n",
       "    </tr>\n",
       "    <tr>\n",
       "      <th>2</th>\n",
       "      <td>1 AV</td>\n",
       "      <td>2016-04-25</td>\n",
       "      <td>20761.0</td>\n",
       "      <td>21359.0</td>\n",
       "    </tr>\n",
       "    <tr>\n",
       "      <th>3</th>\n",
       "      <td>1 AV</td>\n",
       "      <td>2016-04-26</td>\n",
       "      <td>21686.0</td>\n",
       "      <td>22917.0</td>\n",
       "    </tr>\n",
       "    <tr>\n",
       "      <th>4</th>\n",
       "      <td>1 AV</td>\n",
       "      <td>2016-04-27</td>\n",
       "      <td>22780.0</td>\n",
       "      <td>22866.0</td>\n",
       "    </tr>\n",
       "  </tbody>\n",
       "</table>\n",
       "</div>"
      ],
      "text/plain": [
       "  STATION       DATE  DAILY_ENTRIES  DAILY_EXITS\n",
       "0    1 AV 2016-04-23        19441.0      20950.0\n",
       "1    1 AV 2016-04-24        15811.0      16685.0\n",
       "2    1 AV 2016-04-25        20761.0      21359.0\n",
       "3    1 AV 2016-04-26        21686.0      22917.0\n",
       "4    1 AV 2016-04-27        22780.0      22866.0"
      ]
     },
     "execution_count": 135,
     "metadata": {},
     "output_type": "execute_result"
    }
   ],
   "source": [
    "turnstile_df_STATION.sort_values(by='DATE')\n",
    "turnstile_df_STATION.head()"
   ]
  },
  {
   "cell_type": "code",
   "execution_count": 136,
   "metadata": {
    "collapsed": false
   },
   "outputs": [
    {
     "data": {
      "text/plain": [
       "(25000, 200000)"
      ]
     },
     "execution_count": 136,
     "metadata": {},
     "output_type": "execute_result"
    },
    {
     "data": {
      "image/png": "[encoded data removed]",
      "text/plain": [
       "<matplotlib.figure.Figure at 0x12097acd0>"
      ]
     },
     "metadata": {},
     "output_type": "display_data"
    }
   ],
   "source": [
    "#Plotting daily entires\n",
    "mask = (turnstile_df_STATION[\"STATION\"] == \"GRD CNTRL-42 ST\")\n",
    "plt.figure(figsize=(12,3))\n",
    "plt.title(\"Daily Entries for Grand Central Station\")\n",
    "plt.plot((turnstile_df_STATION[mask].DATE), turnstile_df_STATION[mask].DAILY_ENTRIES)\n",
    "plt.xlabel('date')\n",
    "plt.ylabel('daily entries')\n",
    "plt.ylim((25000,200000))"
   ]
  },
  {
   "cell_type": "code",
   "execution_count": 137,
   "metadata": {
    "collapsed": false
   },
   "outputs": [
    {
     "data": {
      "text/plain": [
       "(25000, 200000)"
      ]
     },
     "execution_count": 137,
     "metadata": {},
     "output_type": "execute_result"
    },
    {
     "data": {
      "image/png": "[encoded data removed]",
      "text/plain": [
       "<matplotlib.figure.Figure at 0x10f968810>"
      ]
     },
     "metadata": {},
     "output_type": "display_data"
    }
   ],
   "source": [
    "#Plotting daily exits\n",
    "mask = (turnstile_df_STATION[\"STATION\"] == \"GRD CNTRL-42 ST\")\n",
    "plt.figure(figsize=(12,3))\n",
    "plt.title(\"Daily Entries for Grand Central Station\")\n",
    "plt.plot((turnstile_df_STATION[mask].DATE), turnstile_df_STATION[mask].DAILY_EXITS)\n",
    "plt.xlabel('date')\n",
    "plt.ylabel('daily exits')\n",
    "plt.ylim((25000,200000))"
   ]
  },
  {
   "cell_type": "markdown",
   "metadata": {},
   "source": [
    "Let's look at the stations with the highest number of daily entires and exits in the given timeframe."
   ]
  },
  {
   "cell_type": "code",
   "execution_count": 138,
   "metadata": {
    "collapsed": true
   },
   "outputs": [],
   "source": [
    "daily_ent = turnstile_df.groupby(['UNIQUE_STATION'])[['DAILY_ENTRIES']].sum().reset_index().sort_values('DAILY_ENTRIES', ascending = False)\n",
    "daily_ent1 = daily_ent[0:19]"
   ]
  },
  {
   "cell_type": "code",
   "execution_count": 139,
   "metadata": {
    "collapsed": false
   },
   "outputs": [
    {
     "data": {
      "text/html": [
       "<div>\n",
       "<table border=\"1\" class=\"dataframe\">\n",
       "  <thead>\n",
       "    <tr style=\"text-align: right;\">\n",
       "      <th></th>\n",
       "      <th>UNIQUE_STATION</th>\n",
       "      <th>DAILY_ENTRIES</th>\n",
       "    </tr>\n",
       "  </thead>\n",
       "  <tbody>\n",
       "    <tr>\n",
       "      <th>298</th>\n",
       "      <td>GRD CNTRL-42 ST-4567S</td>\n",
       "      <td>4486280.0</td>\n",
       "    </tr>\n",
       "    <tr>\n",
       "      <th>86</th>\n",
       "      <td>34 ST-HERALD SQ-BDFMNQR</td>\n",
       "      <td>3838540.0</td>\n",
       "    </tr>\n",
       "    <tr>\n",
       "      <th>420</th>\n",
       "      <td>TIMES SQ-42 ST-1237ACENQRS</td>\n",
       "      <td>2745283.0</td>\n",
       "    </tr>\n",
       "    <tr>\n",
       "      <th>89</th>\n",
       "      <td>34 ST-PENN STA-ACE</td>\n",
       "      <td>2484717.0</td>\n",
       "    </tr>\n",
       "    <tr>\n",
       "      <th>28</th>\n",
       "      <td>14 ST-UNION SQ-LNQR456</td>\n",
       "      <td>2319366.0</td>\n",
       "    </tr>\n",
       "  </tbody>\n",
       "</table>\n",
       "</div>"
      ],
      "text/plain": [
       "                 UNIQUE_STATION  DAILY_ENTRIES\n",
       "298       GRD CNTRL-42 ST-4567S      4486280.0\n",
       "86      34 ST-HERALD SQ-BDFMNQR      3838540.0\n",
       "420  TIMES SQ-42 ST-1237ACENQRS      2745283.0\n",
       "89           34 ST-PENN STA-ACE      2484717.0\n",
       "28       14 ST-UNION SQ-LNQR456      2319366.0"
      ]
     },
     "execution_count": 139,
     "metadata": {},
     "output_type": "execute_result"
    }
   ],
   "source": [
    "daily_ent.head()"
   ]
  },
  {
   "cell_type": "code",
   "execution_count": 140,
   "metadata": {
    "collapsed": false
   },
   "outputs": [],
   "source": [
    "daily_ex = turnstile_df.groupby(['UNIQUE_STATION'])[['DAILY_EXITS']].sum().reset_index().sort_values('DAILY_EXITS', ascending = False)\n",
    "daily_ex1 = daily_ex[0:19]"
   ]
  },
  {
   "cell_type": "code",
   "execution_count": 141,
   "metadata": {
    "collapsed": false
   },
   "outputs": [],
   "source": [
    "daily_ex_ent = turnstile_df.groupby(['UNIQUE_STATION'])[['DAILY_EXITS', 'DAILY_ENTRIES']].sum().reset_index().sort_values('DAILY_EXITS', ascending = False)\n",
    "daily_ex_ent1 = daily_ex_ent[0:19]"
   ]
  },
  {
   "cell_type": "code",
   "execution_count": 142,
   "metadata": {
    "collapsed": false
   },
   "outputs": [
    {
     "data": {
      "text/plain": [
       "<matplotlib.text.Text at 0x10fd60a90>"
      ]
     },
     "execution_count": 142,
     "metadata": {},
     "output_type": "execute_result"
    },
    {
     "data": {
      "image/png": "[encoded data removed]",
      "text/plain": [
       "<matplotlib.figure.Figure at 0x110291dd0>"
      ]
     },
     "metadata": {},
     "output_type": "display_data"
    }
   ],
   "source": [
    "daily_ex_ent1.plot(x = 'UNIQUE_STATION', y = ['DAILY_EXITS','DAILY_ENTRIES'], color = ['blue', 'green'], kind = 'bar')\n",
    "plt.title(\"Stations with highest number of entries and exits\")"
   ]
  },
  {
   "cell_type": "markdown",
   "metadata": {
    "collapsed": true
   },
   "source": [
    "Here I will plot the average number of entries and exits for Grand Central station by day of the week.\n",
    "\n"
   ]
  },
  {
   "cell_type": "code",
   "execution_count": 143,
   "metadata": {
    "collapsed": true
   },
   "outputs": [],
   "source": [
    "mask = (turnstile_df[\"STATION\"] == \"GRD CNTRL-42 ST\")\n",
    "weekday_df = turnstile_df[mask].groupby(['STATION','WEEKDAY', 'WEEKDAY_INDEX', 'DATE'])[['DAILY_ENTRIES', 'DAILY_EXITS']].sum().reset_index().sort_values('DAILY_ENTRIES', ascending = False)\n",
    "#plt.plot(test1.WEEKDAY_INDEX, test1.DAILY_ENTRIES)"
   ]
  },
  {
   "cell_type": "code",
   "execution_count": 144,
   "metadata": {
    "collapsed": false
   },
   "outputs": [],
   "source": [
    "weekday_df1 = weekday_df.groupby(['WEEKDAY', 'WEEKDAY_INDEX'], as_index=False)['DAILY_ENTRIES', 'DAILY_EXITS'].mean()"
   ]
  },
  {
   "cell_type": "code",
   "execution_count": 145,
   "metadata": {
    "collapsed": false
   },
   "outputs": [],
   "source": [
    "weekday_df1 = weekday_df1.sort_values(by = 'WEEKDAY_INDEX', ascending = 1)"
   ]
  },
  {
   "cell_type": "code",
   "execution_count": 146,
   "metadata": {
    "collapsed": false
   },
   "outputs": [
    {
     "data": {
      "text/html": [
       "<div>\n",
       "<table border=\"1\" class=\"dataframe\">\n",
       "  <thead>\n",
       "    <tr style=\"text-align: right;\">\n",
       "      <th></th>\n",
       "      <th>WEEKDAY</th>\n",
       "      <th>WEEKDAY_INDEX</th>\n",
       "      <th>DAILY_ENTRIES</th>\n",
       "      <th>DAILY_EXITS</th>\n",
       "    </tr>\n",
       "  </thead>\n",
       "  <tbody>\n",
       "    <tr>\n",
       "      <th>1</th>\n",
       "      <td>Monday</td>\n",
       "      <td>0</td>\n",
       "      <td>157198.8</td>\n",
       "      <td>137435.4</td>\n",
       "    </tr>\n",
       "    <tr>\n",
       "      <th>5</th>\n",
       "      <td>Tuesday</td>\n",
       "      <td>1</td>\n",
       "      <td>166433.2</td>\n",
       "      <td>142358.8</td>\n",
       "    </tr>\n",
       "    <tr>\n",
       "      <th>6</th>\n",
       "      <td>Wednesday</td>\n",
       "      <td>2</td>\n",
       "      <td>162710.8</td>\n",
       "      <td>140788.6</td>\n",
       "    </tr>\n",
       "    <tr>\n",
       "      <th>4</th>\n",
       "      <td>Thursday</td>\n",
       "      <td>3</td>\n",
       "      <td>160560.8</td>\n",
       "      <td>144453.6</td>\n",
       "    </tr>\n",
       "    <tr>\n",
       "      <th>0</th>\n",
       "      <td>Friday</td>\n",
       "      <td>4</td>\n",
       "      <td>134839.2</td>\n",
       "      <td>108101.8</td>\n",
       "    </tr>\n",
       "    <tr>\n",
       "      <th>2</th>\n",
       "      <td>Saturday</td>\n",
       "      <td>5</td>\n",
       "      <td>58416.4</td>\n",
       "      <td>56317.0</td>\n",
       "    </tr>\n",
       "    <tr>\n",
       "      <th>3</th>\n",
       "      <td>Sunday</td>\n",
       "      <td>6</td>\n",
       "      <td>57096.8</td>\n",
       "      <td>64511.2</td>\n",
       "    </tr>\n",
       "  </tbody>\n",
       "</table>\n",
       "</div>"
      ],
      "text/plain": [
       "     WEEKDAY  WEEKDAY_INDEX  DAILY_ENTRIES  DAILY_EXITS\n",
       "1     Monday              0       157198.8     137435.4\n",
       "5    Tuesday              1       166433.2     142358.8\n",
       "6  Wednesday              2       162710.8     140788.6\n",
       "4   Thursday              3       160560.8     144453.6\n",
       "0     Friday              4       134839.2     108101.8\n",
       "2   Saturday              5        58416.4      56317.0\n",
       "3     Sunday              6        57096.8      64511.2"
      ]
     },
     "execution_count": 146,
     "metadata": {},
     "output_type": "execute_result"
    }
   ],
   "source": [
    "weekday_df1 "
   ]
  },
  {
   "cell_type": "code",
   "execution_count": 147,
   "metadata": {
    "collapsed": false
   },
   "outputs": [
    {
     "data": {
      "text/plain": [
       "<matplotlib.legend.Legend at 0x110a9a650>"
      ]
     },
     "execution_count": 147,
     "metadata": {},
     "output_type": "execute_result"
    },
    {
     "data": {
      "image/png": "[encoded data removed]",
      "text/plain": [
       "<matplotlib.figure.Figure at 0x10fb2db50>"
      ]
     },
     "metadata": {},
     "output_type": "display_data"
    }
   ],
   "source": [
    "#Chart for Grand Central by day of week\n",
    "width = 0.3\n",
    "x = weekday_df1['WEEKDAY_INDEX']\n",
    "entries = plt.bar(x,weekday_df1['DAILY_ENTRIES'], color='blue',label = 'entries', width = 0.3)\n",
    "exits = plt.bar(x+width,weekday_df1['DAILY_EXITS'], color='green',label = 'exits',width = 0.3)\n",
    "\n",
    "plt.xlabel('Day of Week')\n",
    "plt.ylabel('Average number of riders')\n",
    "plt.title('Avg number of riders at Grand Central station by weekday')\n",
    "plt.xticks(x+width,['Monday', 'Tuesday', 'Wednesday', 'Thursday', 'Friday', 'Saturday', 'Sunday'])\n",
    "plt.legend([entries, exits], ['Avg entries', 'Avg exits'])"
   ]
  },
  {
   "cell_type": "markdown",
   "metadata": {
    "collapsed": true
   },
   "source": [
    "Lastly, I will plot the average entries and exits over different time periods."
   ]
  },
  {
   "cell_type": "code",
   "execution_count": 148,
   "metadata": {
    "collapsed": false
   },
   "outputs": [],
   "source": [
    "mask = (turnstile_df[\"STATION\"] == \"GRD CNTRL-42 ST\")\n",
    "time_df = turnstile_df[mask].groupby(['STATION','TIME'])[['DAILY_ENTRIES', 'DAILY_EXITS']].sum().reset_index().sort_values('DAILY_ENTRIES', ascending = False)"
   ]
  },
  {
   "cell_type": "code",
   "execution_count": 149,
   "metadata": {
    "collapsed": false
   },
   "outputs": [],
   "source": [
    "time_df = time_df.sort_values(by = 'TIME', ascending = 1)"
   ]
  },
  {
   "cell_type": "code",
   "execution_count": 150,
   "metadata": {
    "collapsed": false
   },
   "outputs": [
    {
     "data": {
      "text/html": [
       "<div>\n",
       "<table border=\"1\" class=\"dataframe\">\n",
       "  <thead>\n",
       "    <tr style=\"text-align: right;\">\n",
       "      <th></th>\n",
       "      <th>STATION</th>\n",
       "      <th>TIME</th>\n",
       "      <th>DAILY_ENTRIES</th>\n",
       "      <th>DAILY_EXITS</th>\n",
       "    </tr>\n",
       "  </thead>\n",
       "  <tbody>\n",
       "    <tr>\n",
       "      <th>0</th>\n",
       "      <td>GRD CNTRL-42 ST</td>\n",
       "      <td>00:00:00</td>\n",
       "      <td>196718.0</td>\n",
       "      <td>247951.0</td>\n",
       "    </tr>\n",
       "    <tr>\n",
       "      <th>1</th>\n",
       "      <td>GRD CNTRL-42 ST</td>\n",
       "      <td>08:00:00</td>\n",
       "      <td>461373.0</td>\n",
       "      <td>598295.0</td>\n",
       "    </tr>\n",
       "    <tr>\n",
       "      <th>2</th>\n",
       "      <td>GRD CNTRL-42 ST</td>\n",
       "      <td>09:00:00</td>\n",
       "      <td>360494.0</td>\n",
       "      <td>676413.0</td>\n",
       "    </tr>\n",
       "    <tr>\n",
       "      <th>3</th>\n",
       "      <td>GRD CNTRL-42 ST</td>\n",
       "      <td>12:00:00</td>\n",
       "      <td>445090.0</td>\n",
       "      <td>364903.0</td>\n",
       "    </tr>\n",
       "    <tr>\n",
       "      <th>4</th>\n",
       "      <td>GRD CNTRL-42 ST</td>\n",
       "      <td>13:00:00</td>\n",
       "      <td>535816.0</td>\n",
       "      <td>380786.0</td>\n",
       "    </tr>\n",
       "    <tr>\n",
       "      <th>5</th>\n",
       "      <td>GRD CNTRL-42 ST</td>\n",
       "      <td>16:00:00</td>\n",
       "      <td>817099.0</td>\n",
       "      <td>503272.0</td>\n",
       "    </tr>\n",
       "    <tr>\n",
       "      <th>6</th>\n",
       "      <td>GRD CNTRL-42 ST</td>\n",
       "      <td>17:00:00</td>\n",
       "      <td>966038.0</td>\n",
       "      <td>350335.0</td>\n",
       "    </tr>\n",
       "    <tr>\n",
       "      <th>7</th>\n",
       "      <td>GRD CNTRL-42 ST</td>\n",
       "      <td>20:00:00</td>\n",
       "      <td>273074.0</td>\n",
       "      <td>138146.0</td>\n",
       "    </tr>\n",
       "    <tr>\n",
       "      <th>8</th>\n",
       "      <td>GRD CNTRL-42 ST</td>\n",
       "      <td>21:00:00</td>\n",
       "      <td>430578.0</td>\n",
       "      <td>709731.0</td>\n",
       "    </tr>\n",
       "  </tbody>\n",
       "</table>\n",
       "</div>"
      ],
      "text/plain": [
       "           STATION      TIME  DAILY_ENTRIES  DAILY_EXITS\n",
       "0  GRD CNTRL-42 ST  00:00:00       196718.0     247951.0\n",
       "1  GRD CNTRL-42 ST  08:00:00       461373.0     598295.0\n",
       "2  GRD CNTRL-42 ST  09:00:00       360494.0     676413.0\n",
       "3  GRD CNTRL-42 ST  12:00:00       445090.0     364903.0\n",
       "4  GRD CNTRL-42 ST  13:00:00       535816.0     380786.0\n",
       "5  GRD CNTRL-42 ST  16:00:00       817099.0     503272.0\n",
       "6  GRD CNTRL-42 ST  17:00:00       966038.0     350335.0\n",
       "7  GRD CNTRL-42 ST  20:00:00       273074.0     138146.0\n",
       "8  GRD CNTRL-42 ST  21:00:00       430578.0     709731.0"
      ]
     },
     "execution_count": 150,
     "metadata": {},
     "output_type": "execute_result"
    }
   ],
   "source": [
    "time_df"
   ]
  },
  {
   "cell_type": "code",
   "execution_count": 151,
   "metadata": {
    "collapsed": false
   },
   "outputs": [],
   "source": [
    "time_df = time_df.drop(time_df.index[[2,4,6,8]])"
   ]
  },
  {
   "cell_type": "code",
   "execution_count": 152,
   "metadata": {
    "collapsed": false
   },
   "outputs": [],
   "source": [
    "time_df = time_df.reset_index(drop=True)"
   ]
  },
  {
   "cell_type": "code",
   "execution_count": 153,
   "metadata": {
    "collapsed": false
   },
   "outputs": [],
   "source": [
    "time_df['TIME'] = time_df['TIME'].astype(str)"
   ]
  },
  {
   "cell_type": "code",
   "execution_count": 154,
   "metadata": {
    "collapsed": false
   },
   "outputs": [
    {
     "data": {
      "text/html": [
       "<div>\n",
       "<table border=\"1\" class=\"dataframe\">\n",
       "  <thead>\n",
       "    <tr style=\"text-align: right;\">\n",
       "      <th></th>\n",
       "      <th>STATION</th>\n",
       "      <th>TIME</th>\n",
       "      <th>DAILY_ENTRIES</th>\n",
       "      <th>DAILY_EXITS</th>\n",
       "    </tr>\n",
       "  </thead>\n",
       "  <tbody>\n",
       "    <tr>\n",
       "      <th>0</th>\n",
       "      <td>GRD CNTRL-42 ST</td>\n",
       "      <td>00:00:00</td>\n",
       "      <td>196718.0</td>\n",
       "      <td>247951.0</td>\n",
       "    </tr>\n",
       "    <tr>\n",
       "      <th>1</th>\n",
       "      <td>GRD CNTRL-42 ST</td>\n",
       "      <td>08:00:00</td>\n",
       "      <td>461373.0</td>\n",
       "      <td>598295.0</td>\n",
       "    </tr>\n",
       "    <tr>\n",
       "      <th>2</th>\n",
       "      <td>GRD CNTRL-42 ST</td>\n",
       "      <td>12:00:00</td>\n",
       "      <td>445090.0</td>\n",
       "      <td>364903.0</td>\n",
       "    </tr>\n",
       "    <tr>\n",
       "      <th>3</th>\n",
       "      <td>GRD CNTRL-42 ST</td>\n",
       "      <td>16:00:00</td>\n",
       "      <td>817099.0</td>\n",
       "      <td>503272.0</td>\n",
       "    </tr>\n",
       "    <tr>\n",
       "      <th>4</th>\n",
       "      <td>GRD CNTRL-42 ST</td>\n",
       "      <td>20:00:00</td>\n",
       "      <td>273074.0</td>\n",
       "      <td>138146.0</td>\n",
       "    </tr>\n",
       "  </tbody>\n",
       "</table>\n",
       "</div>"
      ],
      "text/plain": [
       "           STATION      TIME  DAILY_ENTRIES  DAILY_EXITS\n",
       "0  GRD CNTRL-42 ST  00:00:00       196718.0     247951.0\n",
       "1  GRD CNTRL-42 ST  08:00:00       461373.0     598295.0\n",
       "2  GRD CNTRL-42 ST  12:00:00       445090.0     364903.0\n",
       "3  GRD CNTRL-42 ST  16:00:00       817099.0     503272.0\n",
       "4  GRD CNTRL-42 ST  20:00:00       273074.0     138146.0"
      ]
     },
     "execution_count": 154,
     "metadata": {},
     "output_type": "execute_result"
    }
   ],
   "source": [
    "time_df"
   ]
  },
  {
   "cell_type": "code",
   "execution_count": 156,
   "metadata": {
    "collapsed": false
   },
   "outputs": [],
   "source": [
    "times = {'00:00:00': 0, '08:00:00':1, '12:00:00':2, '16:00:00':3, '20:00:00':4}\n",
    "time_df['HOUR'] = time_df['TIME'].apply(lambda x: times[x])"
   ]
  },
  {
   "cell_type": "code",
   "execution_count": 157,
   "metadata": {
    "collapsed": false
   },
   "outputs": [
    {
     "data": {
      "text/plain": [
       "<matplotlib.legend.Legend at 0x110e5c350>"
      ]
     },
     "execution_count": 157,
     "metadata": {},
     "output_type": "execute_result"
    },
    {
     "data": {
      "image/png": "[encoded data removed]",
      "text/plain": [
       "<matplotlib.figure.Figure at 0x110a6dcd0>"
      ]
     },
     "metadata": {},
     "output_type": "display_data"
    }
   ],
   "source": [
    "#Chart for Grand Central by day of week\n",
    "width = 0.3\n",
    "x = time_df['HOUR']\n",
    "entries1 = plt.bar(x,time_df['DAILY_ENTRIES'], color='blue',label = 'entries', width = 0.3)\n",
    "exits1 = plt.bar(x+width,time_df['DAILY_EXITS'], color='green',label = 'exits',width = 0.3)\n",
    "\n",
    "plt.xlabel('Time of Day')\n",
    "plt.ylabel('Average number of riders')\n",
    "plt.title('Avg number of riders at Grand Central station by time')\n",
    "plt.xticks(x+width,['8p-12am', '4am-8am', '8am-12pm', '12pm-4pm', '4pm to8pm'])\n",
    "plt.legend([entries1, exits1], ['Avg entries', 'Avg exits'])"
   ]
  },
  {
   "cell_type": "code",
   "execution_count": null,
   "metadata": {
    "collapsed": true
   },
   "outputs": [],
   "source": []
  }
 ],
 "metadata": {
  "anaconda-cloud": {},
  "kernelspec": {
   "display_name": "Python [conda root]",
   "language": "python",
   "name": "conda-root-py"
  },
  "language_info": {
   "codemirror_mode": {
    "name": "ipython",
    "version": 2
   },
   "file_extension": ".py",
   "mimetype": "text/x-python",
   "name": "python",
   "nbconvert_exporter": "python",
   "pygments_lexer": "ipython2",
   "version": "2.7.12"
  }
 },
 "nbformat": 4,
 "nbformat_minor": 1
}
